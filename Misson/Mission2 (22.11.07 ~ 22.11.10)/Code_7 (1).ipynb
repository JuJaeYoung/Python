{
 "cells": [
  {
   "cell_type": "markdown",
   "id": "34de37f5",
   "metadata": {},
   "source": [
    "# 서울시 따릉이 대여량 예측 경진대회\n",
    "#### < python을 이용하여 선택한 변수들로 대여량 예측하고 qt5로 구현해보기 >"
   ]
  },
  {
   "cell_type": "markdown",
   "id": "af45819c",
   "metadata": {},
   "source": [
    "### 1. 라이브러리 호출"
   ]
  },
  {
   "cell_type": "code",
   "execution_count": 1,
   "id": "ff720d1c",
   "metadata": {},
   "outputs": [],
   "source": [
    "import pandas as pd\n",
    "import numpy as np\n",
    "import matplotlib.pyplot as plt\n",
    "import seaborn as sns\n",
    "import warnings\n",
    "import tensorflow as tf\n",
    "\n",
    "from sklearn.linear_model import LinearRegression      # 선형회귀\n",
    "from sklearn.ensemble import RandomForestRegressor     # 랜덤포레스트\n",
    "from xgboost import XGBRegressor\n",
    "\n",
    "%matplotlib inline\n",
    "warnings.simplefilter(\"ignore\")"
   ]
  },
  {
   "cell_type": "markdown",
   "id": "aab31fbe",
   "metadata": {},
   "source": [
    "### 2. 데이터 셋 구성하기"
   ]
  },
  {
   "cell_type": "markdown",
   "id": "3171462d",
   "metadata": {},
   "source": [
    "#### 1) 데이터 불러오기"
   ]
  },
  {
   "cell_type": "code",
   "execution_count": 2,
   "id": "778a5015",
   "metadata": {},
   "outputs": [],
   "source": [
    "train = pd.read_csv(\"train.csv\")\n",
    "test = pd.read_csv(\"test.csv\")\n",
    "submission = pd.read_csv(\"submission.csv\")"
   ]
  },
  {
   "cell_type": "markdown",
   "id": "aa96206a",
   "metadata": {},
   "source": [
    "#### 2) 데이터 확인"
   ]
  },
  {
   "cell_type": "code",
   "execution_count": 3,
   "id": "4ce47efa",
   "metadata": {},
   "outputs": [
    {
     "data": {
      "text/html": [
       "<div>\n",
       "<style scoped>\n",
       "    .dataframe tbody tr th:only-of-type {\n",
       "        vertical-align: middle;\n",
       "    }\n",
       "\n",
       "    .dataframe tbody tr th {\n",
       "        vertical-align: top;\n",
       "    }\n",
       "\n",
       "    .dataframe thead th {\n",
       "        text-align: right;\n",
       "    }\n",
       "</style>\n",
       "<table border=\"1\" class=\"dataframe\">\n",
       "  <thead>\n",
       "    <tr style=\"text-align: right;\">\n",
       "      <th></th>\n",
       "      <th>id</th>\n",
       "      <th>hour</th>\n",
       "      <th>hour_bef_temperature</th>\n",
       "      <th>hour_bef_precipitation</th>\n",
       "      <th>hour_bef_windspeed</th>\n",
       "      <th>hour_bef_humidity</th>\n",
       "      <th>hour_bef_visibility</th>\n",
       "      <th>hour_bef_ozone</th>\n",
       "      <th>hour_bef_pm10</th>\n",
       "      <th>hour_bef_pm2.5</th>\n",
       "      <th>count</th>\n",
       "    </tr>\n",
       "  </thead>\n",
       "  <tbody>\n",
       "    <tr>\n",
       "      <th>0</th>\n",
       "      <td>3</td>\n",
       "      <td>20</td>\n",
       "      <td>16.3</td>\n",
       "      <td>1.0</td>\n",
       "      <td>1.5</td>\n",
       "      <td>89.0</td>\n",
       "      <td>576.0</td>\n",
       "      <td>0.027</td>\n",
       "      <td>76.0</td>\n",
       "      <td>33.0</td>\n",
       "      <td>49.0</td>\n",
       "    </tr>\n",
       "    <tr>\n",
       "      <th>1</th>\n",
       "      <td>6</td>\n",
       "      <td>13</td>\n",
       "      <td>20.1</td>\n",
       "      <td>0.0</td>\n",
       "      <td>1.4</td>\n",
       "      <td>48.0</td>\n",
       "      <td>916.0</td>\n",
       "      <td>0.042</td>\n",
       "      <td>73.0</td>\n",
       "      <td>40.0</td>\n",
       "      <td>159.0</td>\n",
       "    </tr>\n",
       "    <tr>\n",
       "      <th>2</th>\n",
       "      <td>7</td>\n",
       "      <td>6</td>\n",
       "      <td>13.9</td>\n",
       "      <td>0.0</td>\n",
       "      <td>0.7</td>\n",
       "      <td>79.0</td>\n",
       "      <td>1382.0</td>\n",
       "      <td>0.033</td>\n",
       "      <td>32.0</td>\n",
       "      <td>19.0</td>\n",
       "      <td>26.0</td>\n",
       "    </tr>\n",
       "    <tr>\n",
       "      <th>3</th>\n",
       "      <td>8</td>\n",
       "      <td>23</td>\n",
       "      <td>8.1</td>\n",
       "      <td>0.0</td>\n",
       "      <td>2.7</td>\n",
       "      <td>54.0</td>\n",
       "      <td>946.0</td>\n",
       "      <td>0.040</td>\n",
       "      <td>75.0</td>\n",
       "      <td>64.0</td>\n",
       "      <td>57.0</td>\n",
       "    </tr>\n",
       "    <tr>\n",
       "      <th>4</th>\n",
       "      <td>9</td>\n",
       "      <td>18</td>\n",
       "      <td>29.5</td>\n",
       "      <td>0.0</td>\n",
       "      <td>4.8</td>\n",
       "      <td>7.0</td>\n",
       "      <td>2000.0</td>\n",
       "      <td>0.057</td>\n",
       "      <td>27.0</td>\n",
       "      <td>11.0</td>\n",
       "      <td>431.0</td>\n",
       "    </tr>\n",
       "  </tbody>\n",
       "</table>\n",
       "</div>"
      ],
      "text/plain": [
       "   id  hour  hour_bef_temperature  hour_bef_precipitation  hour_bef_windspeed  \\\n",
       "0   3    20                  16.3                     1.0                 1.5   \n",
       "1   6    13                  20.1                     0.0                 1.4   \n",
       "2   7     6                  13.9                     0.0                 0.7   \n",
       "3   8    23                   8.1                     0.0                 2.7   \n",
       "4   9    18                  29.5                     0.0                 4.8   \n",
       "\n",
       "   hour_bef_humidity  hour_bef_visibility  hour_bef_ozone  hour_bef_pm10  \\\n",
       "0               89.0                576.0           0.027           76.0   \n",
       "1               48.0                916.0           0.042           73.0   \n",
       "2               79.0               1382.0           0.033           32.0   \n",
       "3               54.0                946.0           0.040           75.0   \n",
       "4                7.0               2000.0           0.057           27.0   \n",
       "\n",
       "   hour_bef_pm2.5  count  \n",
       "0            33.0   49.0  \n",
       "1            40.0  159.0  \n",
       "2            19.0   26.0  \n",
       "3            64.0   57.0  \n",
       "4            11.0  431.0  "
      ]
     },
     "execution_count": 3,
     "metadata": {},
     "output_type": "execute_result"
    }
   ],
   "source": [
    "train.head()"
   ]
  },
  {
   "cell_type": "code",
   "execution_count": 4,
   "id": "591418e7",
   "metadata": {},
   "outputs": [
    {
     "data": {
      "text/plain": [
       "((1459, 11), (715, 10), (715, 2))"
      ]
     },
     "execution_count": 4,
     "metadata": {},
     "output_type": "execute_result"
    }
   ],
   "source": [
    "train.shape, test.shape, submission.shape"
   ]
  },
  {
   "cell_type": "markdown",
   "id": "095dce4e",
   "metadata": {},
   "source": [
    "### 3. 전처리"
   ]
  },
  {
   "cell_type": "markdown",
   "id": "b7186e8d",
   "metadata": {},
   "source": [
    "#### 1) 결측치 처리\n",
    "* hour_bef_precipitation : 최빈값(0)으로 처리\n",
    "* 나머지 열 : 평균값으로 처리"
   ]
  },
  {
   "cell_type": "code",
   "execution_count": 5,
   "id": "57028108",
   "metadata": {},
   "outputs": [
    {
     "name": "stdout",
     "output_type": "stream",
     "text": [
      "<class 'pandas.core.frame.DataFrame'>\n",
      "RangeIndex: 1459 entries, 0 to 1458\n",
      "Data columns (total 11 columns):\n",
      " #   Column                  Non-Null Count  Dtype  \n",
      "---  ------                  --------------  -----  \n",
      " 0   id                      1459 non-null   int64  \n",
      " 1   hour                    1459 non-null   int64  \n",
      " 2   hour_bef_temperature    1459 non-null   float64\n",
      " 3   hour_bef_precipitation  1459 non-null   object \n",
      " 4   hour_bef_windspeed      1459 non-null   float64\n",
      " 5   hour_bef_humidity       1459 non-null   float64\n",
      " 6   hour_bef_visibility     1459 non-null   float64\n",
      " 7   hour_bef_ozone          1459 non-null   float64\n",
      " 8   hour_bef_pm10           1459 non-null   float64\n",
      " 9   hour_bef_pm2.5          1459 non-null   float64\n",
      " 10  count                   1459 non-null   float64\n",
      "dtypes: float64(8), int64(2), object(1)\n",
      "memory usage: 125.5+ KB\n"
     ]
    }
   ],
   "source": [
    "# train 데이터셋 결측치 처리\n",
    "train['hour_bef_precipitation'].fillna('0', inplace=True)\n",
    "train.fillna(train.mean(), inplace=True)\n",
    "train.info()"
   ]
  },
  {
   "cell_type": "code",
   "execution_count": 6,
   "id": "45009942",
   "metadata": {},
   "outputs": [
    {
     "name": "stdout",
     "output_type": "stream",
     "text": [
      "<class 'pandas.core.frame.DataFrame'>\n",
      "RangeIndex: 715 entries, 0 to 714\n",
      "Data columns (total 10 columns):\n",
      " #   Column                  Non-Null Count  Dtype  \n",
      "---  ------                  --------------  -----  \n",
      " 0   id                      715 non-null    int64  \n",
      " 1   hour                    715 non-null    int64  \n",
      " 2   hour_bef_temperature    715 non-null    float64\n",
      " 3   hour_bef_precipitation  715 non-null    object \n",
      " 4   hour_bef_windspeed      715 non-null    float64\n",
      " 5   hour_bef_humidity       715 non-null    float64\n",
      " 6   hour_bef_visibility     715 non-null    float64\n",
      " 7   hour_bef_ozone          715 non-null    float64\n",
      " 8   hour_bef_pm10           715 non-null    float64\n",
      " 9   hour_bef_pm2.5          715 non-null    float64\n",
      "dtypes: float64(7), int64(2), object(1)\n",
      "memory usage: 56.0+ KB\n"
     ]
    }
   ],
   "source": [
    "# test 데이터셋 결측치 처리\n",
    "test['hour_bef_precipitation'].fillna('0', inplace=True)\n",
    "test.fillna(test.mean(), inplace=True)\n",
    "test.info()"
   ]
  },
  {
   "cell_type": "markdown",
   "id": "b902f4fb",
   "metadata": {},
   "source": [
    "#### 3) 변수 정의"
   ]
  },
  {
   "cell_type": "code",
   "execution_count": 7,
   "id": "64a71661",
   "metadata": {},
   "outputs": [],
   "source": [
    "x_train = train.drop(['id','count'], axis=1)\n",
    "y_train = train['count']\n",
    "x_test = test.drop(['id'], axis=1)"
   ]
  },
  {
   "cell_type": "code",
   "execution_count": 8,
   "id": "c4779acb",
   "metadata": {},
   "outputs": [
    {
     "data": {
      "text/plain": [
       "((1459, 9), (1459,), (715, 9))"
      ]
     },
     "execution_count": 8,
     "metadata": {},
     "output_type": "execute_result"
    }
   ],
   "source": [
    "x_train.shape, y_train.shape, x_test.shape"
   ]
  },
  {
   "cell_type": "markdown",
   "id": "eaf35e25",
   "metadata": {},
   "source": [
    "### 3. 학습"
   ]
  },
  {
   "cell_type": "code",
   "execution_count": 9,
   "id": "c6402bad",
   "metadata": {},
   "outputs": [],
   "source": [
    "# 평가지표\n",
    "def get_nmae(pred, y):\n",
    "    nmae = np.mean(abs(pred-y)/y)\n",
    "    return nmae"
   ]
  },
  {
   "cell_type": "markdown",
   "id": "366a0bab",
   "metadata": {},
   "source": [
    "#### 1) LinearRegression"
   ]
  },
  {
   "cell_type": "code",
   "execution_count": 10,
   "id": "1739484d",
   "metadata": {},
   "outputs": [
    {
     "name": "stdout",
     "output_type": "stream",
     "text": [
      "NMAE : 1.2364909188776283\n"
     ]
    }
   ],
   "source": [
    "# 모델 생성\n",
    "model_LR = LinearRegression()\n",
    "\n",
    "# 학습\n",
    "model_LR.fit(x_train, y_train)\n",
    "\n",
    "# 예측값\n",
    "y_pred_LR = model_LR.predict(x_test)\n",
    "\n",
    "# 평가\n",
    "y_pred = model_LR.predict(x_train)\n",
    "LR = get_nmae(y_pred, y_train)\n",
    "print('NMAE :',LR)"
   ]
  },
  {
   "cell_type": "markdown",
   "id": "1daf7b3e",
   "metadata": {},
   "source": [
    "#### 2) RandomForestRegressor"
   ]
  },
  {
   "cell_type": "code",
   "execution_count": 11,
   "id": "f381fa71",
   "metadata": {},
   "outputs": [
    {
     "name": "stdout",
     "output_type": "stream",
     "text": [
      "NMAE : 0.2744164912585406\n"
     ]
    }
   ],
   "source": [
    "# 모델 생성\n",
    "model_RF100 = RandomForestRegressor(n_estimators=100, random_state=0)\n",
    "\n",
    "# 모델 학습\n",
    "model_RF100.fit(x_train, y_train)\n",
    "\n",
    "# 예측값\n",
    "y_pred_RF100 = model_RF100.predict(x_test)\n",
    "\n",
    "# 평가\n",
    "y_pred = model_RF100.predict(x_train)\n",
    "RF100 = get_nmae(y_pred, y_train)\n",
    "print('NMAE :',RF100)"
   ]
  },
  {
   "cell_type": "markdown",
   "id": "13331fe6",
   "metadata": {},
   "source": [
    "#### 3) XGBRegressor"
   ]
  },
  {
   "cell_type": "code",
   "execution_count": 12,
   "id": "36b37fc8",
   "metadata": {},
   "outputs": [
    {
     "name": "stdout",
     "output_type": "stream",
     "text": [
      "NMAE : 0.04001384\n"
     ]
    }
   ],
   "source": [
    "# 모델 생성\n",
    "model_XGB = XGBRegressor(max_depth = 4, n_estimators = 500)\n",
    "\n",
    "# 모델 학습\n",
    "model_XGB.fit(x_train.astype(np.float32), y_train.astype(np.float32))\n",
    "\n",
    "# 예측값\n",
    "y_pred_XGB = model_XGB.predict(x_test.astype(np.float32))\n",
    "\n",
    "# 평가\n",
    "y_pred = model_XGB.predict(x_train.astype(np.float32))\n",
    "XGB = get_nmae(y_pred.astype(np.float32), y_train.astype(np.float32))\n",
    "print('NMAE :',XGB)"
   ]
  },
  {
   "cell_type": "markdown",
   "id": "027a5e72",
   "metadata": {},
   "source": [
    "### 4. 결과"
   ]
  },
  {
   "cell_type": "code",
   "execution_count": 54,
   "id": "f29a6dc0",
   "metadata": {
    "scrolled": true
   },
   "outputs": [],
   "source": [
    "# 3가지 모델의 평균을 예측값으로\n",
    "submission['count'] = (y_pred_LR + y_pred_RF100 + y_pred_XGB) / 3\n",
    "submission['count_LR'] = y_pred_LR\n",
    "submission['count_RF100'] = y_pred_RF100\n",
    "submission['count_XGB'] = y_pred_XGB"
   ]
  },
  {
   "cell_type": "code",
   "execution_count": 55,
   "id": "55e197ec",
   "metadata": {
    "scrolled": true
   },
   "outputs": [],
   "source": [
    "# 결과 저장을 위한 데이터\n",
    "sub = submission[['id','count']]\n",
    "\n",
    "sub.to_csv(\"final_result.csv\", index=False)"
   ]
  },
  {
   "cell_type": "code",
   "execution_count": 56,
   "id": "50d8e4e0",
   "metadata": {},
   "outputs": [
    {
     "data": {
      "image/png": "[encoded data removed]",
      "text/plain": [
       "<Figure size 1000x1000 with 2 Axes>"
      ]
     },
     "metadata": {},
     "output_type": "display_data"
    }
   ],
   "source": [
    "# 히트맵 그리기 위한 데이터\n",
    "result = submission.drop(['id'], axis=1)\n",
    "\n",
    "plt.figure(figsize=(10,10))\n",
    "sns.heatmap(result.corr(), annot=True, fmt=\".5f\", linewidths=.5, \n",
    "            square=True, cmap='Blues_r', vmin=0.7, vmax=1)\n",
    "plt.title(\"Heatmap of Models\")\n",
    "\n",
    "plt.savefig(\"model_heatmap.png\", dpi=70, bbox_inches='tight')\n",
    "\n",
    "plt.show()"
   ]
  }
 ],
 "metadata": {
  "kernelspec": {
   "display_name": "Python 3 (ipykernel)",
   "language": "python",
   "name": "python3"
  },
  "language_info": {
   "codemirror_mode": {
    "name": "ipython",
    "version": 3
   },
   "file_extension": ".py",
   "mimetype": "text/x-python",
   "name": "python",
   "nbconvert_exporter": "python",
   "pygments_lexer": "ipython3",
   "version": "3.9.13"
  }
 },
 "nbformat": 4,
 "nbformat_minor": 5
}
