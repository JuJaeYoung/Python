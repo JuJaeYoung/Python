{
 "cells": [
  {
   "cell_type": "markdown",
   "id": "af45819c",
   "metadata": {},
   "source": [
    "### 1. 라이브러리 호출"
   ]
  },
  {
   "cell_type": "code",
   "execution_count": 1,
   "id": "ff720d1c",
   "metadata": {},
   "outputs": [],
   "source": [
    "import pandas as pd         \n",
    "from sklearn.ensemble import RandomForestRegressor\n",
    "from sklearn.metrics import mean_squared_error"
   ]
  },
  {
   "cell_type": "markdown",
   "id": "aab31fbe",
   "metadata": {},
   "source": [
    "### 2. 데이터 셋 구성하기"
   ]
  },
  {
   "cell_type": "markdown",
   "id": "3171462d",
   "metadata": {},
   "source": [
    "#### 1) 데이터 불러오기"
   ]
  },
  {
   "cell_type": "code",
   "execution_count": 2,
   "id": "778a5015",
   "metadata": {},
   "outputs": [],
   "source": [
    "train = pd.read_csv(\"C:/Users/user13/Documents/Study/따릉이/train.csv\")\n",
    "test = pd.read_csv(\"C:/Users/user13/Documents/Study/따릉이/test.csv\")"
   ]
  },
  {
   "cell_type": "code",
   "execution_count": 3,
   "id": "4bb44dc9",
   "metadata": {
    "scrolled": true
   },
   "outputs": [
    {
     "name": "stdout",
     "output_type": "stream",
     "text": [
      "<class 'pandas.core.frame.DataFrame'>\n",
      "RangeIndex: 1459 entries, 0 to 1458\n",
      "Data columns (total 11 columns):\n",
      " #   Column                  Non-Null Count  Dtype  \n",
      "---  ------                  --------------  -----  \n",
      " 0   id                      1459 non-null   int64  \n",
      " 1   hour                    1459 non-null   int64  \n",
      " 2   hour_bef_temperature    1457 non-null   float64\n",
      " 3   hour_bef_precipitation  1457 non-null   float64\n",
      " 4   hour_bef_windspeed      1450 non-null   float64\n",
      " 5   hour_bef_humidity       1457 non-null   float64\n",
      " 6   hour_bef_visibility     1457 non-null   float64\n",
      " 7   hour_bef_ozone          1383 non-null   float64\n",
      " 8   hour_bef_pm10           1369 non-null   float64\n",
      " 9   hour_bef_pm2.5          1342 non-null   float64\n",
      " 10  count                   1459 non-null   float64\n",
      "dtypes: float64(9), int64(2)\n",
      "memory usage: 125.5 KB\n"
     ]
    }
   ],
   "source": [
    "train.info()    # 결측치 확인"
   ]
  },
  {
   "cell_type": "code",
   "execution_count": 4,
   "id": "b1b671b3",
   "metadata": {},
   "outputs": [
    {
     "name": "stdout",
     "output_type": "stream",
     "text": [
      "<class 'pandas.core.frame.DataFrame'>\n",
      "RangeIndex: 715 entries, 0 to 714\n",
      "Data columns (total 10 columns):\n",
      " #   Column                  Non-Null Count  Dtype  \n",
      "---  ------                  --------------  -----  \n",
      " 0   id                      715 non-null    int64  \n",
      " 1   hour                    715 non-null    int64  \n",
      " 2   hour_bef_temperature    714 non-null    float64\n",
      " 3   hour_bef_precipitation  714 non-null    float64\n",
      " 4   hour_bef_windspeed      714 non-null    float64\n",
      " 5   hour_bef_humidity       714 non-null    float64\n",
      " 6   hour_bef_visibility     714 non-null    float64\n",
      " 7   hour_bef_ozone          680 non-null    float64\n",
      " 8   hour_bef_pm10           678 non-null    float64\n",
      " 9   hour_bef_pm2.5          679 non-null    float64\n",
      "dtypes: float64(8), int64(2)\n",
      "memory usage: 56.0 KB\n"
     ]
    }
   ],
   "source": [
    "test.info()     # 결측치 확인"
   ]
  },
  {
   "cell_type": "markdown",
   "id": "b7186e8d",
   "metadata": {},
   "source": [
    "#### 2) 전처리 (결측치 처리)\n",
    "* hour_bef_precipitation : 최빈값(0)으로 처리\n",
    "* 나머지 열 : 평균값으로 처리"
   ]
  },
  {
   "cell_type": "code",
   "execution_count": 5,
   "id": "8f6363c4",
   "metadata": {},
   "outputs": [
    {
     "data": {
      "text/plain": [
       "id                          0\n",
       "hour                        0\n",
       "hour_bef_temperature        2\n",
       "hour_bef_precipitation      2\n",
       "hour_bef_windspeed          9\n",
       "hour_bef_humidity           2\n",
       "hour_bef_visibility         2\n",
       "hour_bef_ozone             76\n",
       "hour_bef_pm10              90\n",
       "hour_bef_pm2.5            117\n",
       "count                       0\n",
       "dtype: int64"
      ]
     },
     "execution_count": 5,
     "metadata": {},
     "output_type": "execute_result"
    }
   ],
   "source": [
    "# train 결측치\n",
    "train.isna().sum()"
   ]
  },
  {
   "cell_type": "code",
   "execution_count": 6,
   "id": "99fd4317",
   "metadata": {},
   "outputs": [
    {
     "data": {
      "text/plain": [
       "0.0    1411\n",
       "1.0      46\n",
       "Name: hour_bef_precipitation, dtype: int64"
      ]
     },
     "execution_count": 6,
     "metadata": {},
     "output_type": "execute_result"
    }
   ],
   "source": [
    "# hour_bef_precipitation 최빈값 찾기\n",
    "train['hour_bef_precipitation'].value_counts()"
   ]
  },
  {
   "cell_type": "code",
   "execution_count": 7,
   "id": "57028108",
   "metadata": {},
   "outputs": [
    {
     "name": "stdout",
     "output_type": "stream",
     "text": [
      "<class 'pandas.core.frame.DataFrame'>\n",
      "RangeIndex: 1459 entries, 0 to 1458\n",
      "Data columns (total 11 columns):\n",
      " #   Column                  Non-Null Count  Dtype  \n",
      "---  ------                  --------------  -----  \n",
      " 0   id                      1459 non-null   int64  \n",
      " 1   hour                    1459 non-null   int64  \n",
      " 2   hour_bef_temperature    1459 non-null   float64\n",
      " 3   hour_bef_precipitation  1459 non-null   object \n",
      " 4   hour_bef_windspeed      1459 non-null   float64\n",
      " 5   hour_bef_humidity       1459 non-null   float64\n",
      " 6   hour_bef_visibility     1459 non-null   float64\n",
      " 7   hour_bef_ozone          1459 non-null   float64\n",
      " 8   hour_bef_pm10           1459 non-null   float64\n",
      " 9   hour_bef_pm2.5          1459 non-null   float64\n",
      " 10  count                   1459 non-null   float64\n",
      "dtypes: float64(8), int64(2), object(1)\n",
      "memory usage: 125.5+ KB\n"
     ]
    },
    {
     "name": "stderr",
     "output_type": "stream",
     "text": [
      "C:\\Users\\user13\\AppData\\Local\\Temp\\ipykernel_6500\\2700318772.py:3: FutureWarning: Dropping of nuisance columns in DataFrame reductions (with 'numeric_only=None') is deprecated; in a future version this will raise TypeError.  Select only valid columns before calling the reduction.\n",
      "  train.fillna(train.mean(), inplace=True)\n"
     ]
    }
   ],
   "source": [
    "# train 데이터셋 결측치 처리\n",
    "train['hour_bef_precipitation'].fillna('0', inplace=True)\n",
    "train.fillna(train.mean(), inplace=True)\n",
    "train.info()"
   ]
  },
  {
   "cell_type": "code",
   "execution_count": 8,
   "id": "e8d8cf39",
   "metadata": {
    "scrolled": true
   },
   "outputs": [
    {
     "data": {
      "text/plain": [
       "id                         0\n",
       "hour                       0\n",
       "hour_bef_temperature       1\n",
       "hour_bef_precipitation     1\n",
       "hour_bef_windspeed         1\n",
       "hour_bef_humidity          1\n",
       "hour_bef_visibility        1\n",
       "hour_bef_ozone            35\n",
       "hour_bef_pm10             37\n",
       "hour_bef_pm2.5            36\n",
       "dtype: int64"
      ]
     },
     "execution_count": 8,
     "metadata": {},
     "output_type": "execute_result"
    }
   ],
   "source": [
    "# test 결측치\n",
    "test.isna().sum()"
   ]
  },
  {
   "cell_type": "code",
   "execution_count": 9,
   "id": "fb5901b0",
   "metadata": {},
   "outputs": [
    {
     "data": {
      "text/plain": [
       "0.0    677\n",
       "1.0     37\n",
       "Name: hour_bef_precipitation, dtype: int64"
      ]
     },
     "execution_count": 9,
     "metadata": {},
     "output_type": "execute_result"
    }
   ],
   "source": [
    "# hour_bef_precipitation 최빈값 찾기\n",
    "test['hour_bef_precipitation'].value_counts()"
   ]
  },
  {
   "cell_type": "code",
   "execution_count": 10,
   "id": "45009942",
   "metadata": {},
   "outputs": [
    {
     "name": "stdout",
     "output_type": "stream",
     "text": [
      "<class 'pandas.core.frame.DataFrame'>\n",
      "RangeIndex: 715 entries, 0 to 714\n",
      "Data columns (total 10 columns):\n",
      " #   Column                  Non-Null Count  Dtype  \n",
      "---  ------                  --------------  -----  \n",
      " 0   id                      715 non-null    int64  \n",
      " 1   hour                    715 non-null    int64  \n",
      " 2   hour_bef_temperature    715 non-null    float64\n",
      " 3   hour_bef_precipitation  715 non-null    object \n",
      " 4   hour_bef_windspeed      715 non-null    float64\n",
      " 5   hour_bef_humidity       715 non-null    float64\n",
      " 6   hour_bef_visibility     715 non-null    float64\n",
      " 7   hour_bef_ozone          715 non-null    float64\n",
      " 8   hour_bef_pm10           715 non-null    float64\n",
      " 9   hour_bef_pm2.5          715 non-null    float64\n",
      "dtypes: float64(7), int64(2), object(1)\n",
      "memory usage: 56.0+ KB\n"
     ]
    },
    {
     "name": "stderr",
     "output_type": "stream",
     "text": [
      "C:\\Users\\user13\\AppData\\Local\\Temp\\ipykernel_6500\\16727229.py:3: FutureWarning: Dropping of nuisance columns in DataFrame reductions (with 'numeric_only=None') is deprecated; in a future version this will raise TypeError.  Select only valid columns before calling the reduction.\n",
      "  test.fillna(test.mean(), inplace=True)\n"
     ]
    }
   ],
   "source": [
    "# test 데이터셋 결측치 처리\n",
    "test['hour_bef_precipitation'].fillna('0', inplace=True)\n",
    "test.fillna(test.mean(), inplace=True)\n",
    "test.info()"
   ]
  },
  {
   "cell_type": "markdown",
   "id": "e7139947",
   "metadata": {},
   "source": [
    "#### 3) 특정 열 입력받아 새로운 데이터셋 만들기"
   ]
  },
  {
   "cell_type": "code",
   "execution_count": 11,
   "id": "3dbfdf94",
   "metadata": {},
   "outputs": [],
   "source": [
    "input_col = ['hour_bef_temperature','hour_bef_precipitation']                       # 추출할 열 리스트\n",
    "col = ['count'] + input_col\n",
    "\n",
    "train_df = train[col]            # id + count + 추출할 열\n",
    "test_df = test[input_col]        # id + 추출할 열"
   ]
  },
  {
   "cell_type": "markdown",
   "id": "b902f4fb",
   "metadata": {},
   "source": [
    "#### 4) 변수 정의"
   ]
  },
  {
   "cell_type": "code",
   "execution_count": 12,
   "id": "fb920215",
   "metadata": {},
   "outputs": [],
   "source": [
    "# x, y 분류\n",
    "x_train = train_df.drop(['count'], axis=1)\n",
    "y_train = train_df['count']\n",
    "x_test = test_df"
   ]
  },
  {
   "cell_type": "code",
   "execution_count": 13,
   "id": "ad590695",
   "metadata": {},
   "outputs": [
    {
     "data": {
      "text/html": [
       "<div>\n",
       "<style scoped>\n",
       "    .dataframe tbody tr th:only-of-type {\n",
       "        vertical-align: middle;\n",
       "    }\n",
       "\n",
       "    .dataframe tbody tr th {\n",
       "        vertical-align: top;\n",
       "    }\n",
       "\n",
       "    .dataframe thead th {\n",
       "        text-align: right;\n",
       "    }\n",
       "</style>\n",
       "<table border=\"1\" class=\"dataframe\">\n",
       "  <thead>\n",
       "    <tr style=\"text-align: right;\">\n",
       "      <th></th>\n",
       "      <th>hour_bef_temperature</th>\n",
       "      <th>hour_bef_precipitation</th>\n",
       "    </tr>\n",
       "  </thead>\n",
       "  <tbody>\n",
       "    <tr>\n",
       "      <th>0</th>\n",
       "      <td>16.3</td>\n",
       "      <td>1.0</td>\n",
       "    </tr>\n",
       "    <tr>\n",
       "      <th>1</th>\n",
       "      <td>20.1</td>\n",
       "      <td>0.0</td>\n",
       "    </tr>\n",
       "    <tr>\n",
       "      <th>2</th>\n",
       "      <td>13.9</td>\n",
       "      <td>0.0</td>\n",
       "    </tr>\n",
       "    <tr>\n",
       "      <th>3</th>\n",
       "      <td>8.1</td>\n",
       "      <td>0.0</td>\n",
       "    </tr>\n",
       "    <tr>\n",
       "      <th>4</th>\n",
       "      <td>29.5</td>\n",
       "      <td>0.0</td>\n",
       "    </tr>\n",
       "  </tbody>\n",
       "</table>\n",
       "</div>"
      ],
      "text/plain": [
       "   hour_bef_temperature hour_bef_precipitation\n",
       "0                  16.3                    1.0\n",
       "1                  20.1                    0.0\n",
       "2                  13.9                    0.0\n",
       "3                   8.1                    0.0\n",
       "4                  29.5                    0.0"
      ]
     },
     "execution_count": 13,
     "metadata": {},
     "output_type": "execute_result"
    }
   ],
   "source": [
    "x_train.head()"
   ]
  },
  {
   "cell_type": "markdown",
   "id": "a8a18e2d",
   "metadata": {},
   "source": [
    "### 4. 학습 (6가지 모델)"
   ]
  },
  {
   "cell_type": "markdown",
   "id": "3531875e",
   "metadata": {},
   "source": [
    "#### 1) GradientBoostingRegressor"
   ]
  },
  {
   "cell_type": "code",
   "execution_count": 14,
   "id": "775b5886",
   "metadata": {},
   "outputs": [],
   "source": [
    "from sklearn.ensemble import GradientBoostingRegressor\n",
    "\n",
    "# 모델 정의\n",
    "gbm = GradientBoostingRegressor()\n",
    "\n",
    "# 학습\n",
    "gbm.fit(x_train, y_train)\n",
    "\n",
    "# 예측\n",
    "y_gbm_pred = gbm.predict(x_test)"
   ]
  },
  {
   "cell_type": "code",
   "execution_count": 15,
   "id": "af774199",
   "metadata": {},
   "outputs": [
    {
     "data": {
      "text/html": [
       "<div>\n",
       "<style scoped>\n",
       "    .dataframe tbody tr th:only-of-type {\n",
       "        vertical-align: middle;\n",
       "    }\n",
       "\n",
       "    .dataframe tbody tr th {\n",
       "        vertical-align: top;\n",
       "    }\n",
       "\n",
       "    .dataframe thead th {\n",
       "        text-align: right;\n",
       "    }\n",
       "</style>\n",
       "<table border=\"1\" class=\"dataframe\">\n",
       "  <thead>\n",
       "    <tr style=\"text-align: right;\">\n",
       "      <th></th>\n",
       "      <th>id</th>\n",
       "      <th>count</th>\n",
       "    </tr>\n",
       "  </thead>\n",
       "  <tbody>\n",
       "    <tr>\n",
       "      <th>0</th>\n",
       "      <td>0</td>\n",
       "      <td>167.798410</td>\n",
       "    </tr>\n",
       "    <tr>\n",
       "      <th>1</th>\n",
       "      <td>1</td>\n",
       "      <td>287.302944</td>\n",
       "    </tr>\n",
       "    <tr>\n",
       "      <th>2</th>\n",
       "      <td>2</td>\n",
       "      <td>57.280172</td>\n",
       "    </tr>\n",
       "    <tr>\n",
       "      <th>3</th>\n",
       "      <td>4</td>\n",
       "      <td>180.700048</td>\n",
       "    </tr>\n",
       "    <tr>\n",
       "      <th>4</th>\n",
       "      <td>5</td>\n",
       "      <td>51.352635</td>\n",
       "    </tr>\n",
       "    <tr>\n",
       "      <th>...</th>\n",
       "      <td>...</td>\n",
       "      <td>...</td>\n",
       "    </tr>\n",
       "    <tr>\n",
       "      <th>710</th>\n",
       "      <td>2148</td>\n",
       "      <td>182.426776</td>\n",
       "    </tr>\n",
       "    <tr>\n",
       "      <th>711</th>\n",
       "      <td>2149</td>\n",
       "      <td>111.454374</td>\n",
       "    </tr>\n",
       "    <tr>\n",
       "      <th>712</th>\n",
       "      <td>2165</td>\n",
       "      <td>179.384496</td>\n",
       "    </tr>\n",
       "    <tr>\n",
       "      <th>713</th>\n",
       "      <td>2166</td>\n",
       "      <td>199.459215</td>\n",
       "    </tr>\n",
       "    <tr>\n",
       "      <th>714</th>\n",
       "      <td>2177</td>\n",
       "      <td>167.027035</td>\n",
       "    </tr>\n",
       "  </tbody>\n",
       "</table>\n",
       "<p>715 rows × 2 columns</p>\n",
       "</div>"
      ],
      "text/plain": [
       "       id       count\n",
       "0       0  167.798410\n",
       "1       1  287.302944\n",
       "2       2   57.280172\n",
       "3       4  180.700048\n",
       "4       5   51.352635\n",
       "..    ...         ...\n",
       "710  2148  182.426776\n",
       "711  2149  111.454374\n",
       "712  2165  179.384496\n",
       "713  2166  199.459215\n",
       "714  2177  167.027035\n",
       "\n",
       "[715 rows x 2 columns]"
      ]
     },
     "execution_count": 15,
     "metadata": {},
     "output_type": "execute_result"
    }
   ],
   "source": [
    "# 출력\n",
    "submission = pd.read_csv('C:/submission.csv')\n",
    "submission['count'] = y_gbm_pred\n",
    "submission"
   ]
  },
  {
   "cell_type": "markdown",
   "id": "f627e96c",
   "metadata": {},
   "source": [
    "#### 2) NGBRegressor"
   ]
  },
  {
   "cell_type": "code",
   "execution_count": 16,
   "id": "660691c3",
   "metadata": {},
   "outputs": [
    {
     "name": "stdout",
     "output_type": "stream",
     "text": [
      "[iter 0] loss=5.8330 val_loss=0.0000 scale=1.0000 norm=65.4410\n",
      "[iter 100] loss=5.5287 val_loss=0.0000 scale=2.0000 norm=101.3841\n",
      "[iter 200] loss=5.4790 val_loss=0.0000 scale=2.0000 norm=98.5803\n",
      "[iter 300] loss=5.4585 val_loss=0.0000 scale=2.0000 norm=97.3546\n",
      "[iter 400] loss=5.4447 val_loss=0.0000 scale=2.0000 norm=96.5894\n"
     ]
    }
   ],
   "source": [
    "from ngboost import NGBRegressor\n",
    "\n",
    "# 모델 정의\n",
    "ngb = NGBRegressor()\n",
    "\n",
    "# 학습\n",
    "ngb.fit(x_train, y_train)\n",
    "\n",
    "# 예측\n",
    "y_ngb_pred = ngb.predict(x_test)"
   ]
  },
  {
   "cell_type": "code",
   "execution_count": 17,
   "id": "23f0d6b8",
   "metadata": {},
   "outputs": [
    {
     "data": {
      "text/html": [
       "<div>\n",
       "<style scoped>\n",
       "    .dataframe tbody tr th:only-of-type {\n",
       "        vertical-align: middle;\n",
       "    }\n",
       "\n",
       "    .dataframe tbody tr th {\n",
       "        vertical-align: top;\n",
       "    }\n",
       "\n",
       "    .dataframe thead th {\n",
       "        text-align: right;\n",
       "    }\n",
       "</style>\n",
       "<table border=\"1\" class=\"dataframe\">\n",
       "  <thead>\n",
       "    <tr style=\"text-align: right;\">\n",
       "      <th></th>\n",
       "      <th>id</th>\n",
       "      <th>count</th>\n",
       "    </tr>\n",
       "  </thead>\n",
       "  <tbody>\n",
       "    <tr>\n",
       "      <th>0</th>\n",
       "      <td>0</td>\n",
       "      <td>168.341522</td>\n",
       "    </tr>\n",
       "    <tr>\n",
       "      <th>1</th>\n",
       "      <td>1</td>\n",
       "      <td>291.203565</td>\n",
       "    </tr>\n",
       "    <tr>\n",
       "      <th>2</th>\n",
       "      <td>2</td>\n",
       "      <td>59.958225</td>\n",
       "    </tr>\n",
       "    <tr>\n",
       "      <th>3</th>\n",
       "      <td>4</td>\n",
       "      <td>181.056244</td>\n",
       "    </tr>\n",
       "    <tr>\n",
       "      <th>4</th>\n",
       "      <td>5</td>\n",
       "      <td>55.221538</td>\n",
       "    </tr>\n",
       "    <tr>\n",
       "      <th>...</th>\n",
       "      <td>...</td>\n",
       "      <td>...</td>\n",
       "    </tr>\n",
       "    <tr>\n",
       "      <th>710</th>\n",
       "      <td>2148</td>\n",
       "      <td>179.048114</td>\n",
       "    </tr>\n",
       "    <tr>\n",
       "      <th>711</th>\n",
       "      <td>2149</td>\n",
       "      <td>111.484148</td>\n",
       "    </tr>\n",
       "    <tr>\n",
       "      <th>712</th>\n",
       "      <td>2165</td>\n",
       "      <td>179.142416</td>\n",
       "    </tr>\n",
       "    <tr>\n",
       "      <th>713</th>\n",
       "      <td>2166</td>\n",
       "      <td>201.071542</td>\n",
       "    </tr>\n",
       "    <tr>\n",
       "      <th>714</th>\n",
       "      <td>2177</td>\n",
       "      <td>167.230200</td>\n",
       "    </tr>\n",
       "  </tbody>\n",
       "</table>\n",
       "<p>715 rows × 2 columns</p>\n",
       "</div>"
      ],
      "text/plain": [
       "       id       count\n",
       "0       0  168.341522\n",
       "1       1  291.203565\n",
       "2       2   59.958225\n",
       "3       4  181.056244\n",
       "4       5   55.221538\n",
       "..    ...         ...\n",
       "710  2148  179.048114\n",
       "711  2149  111.484148\n",
       "712  2165  179.142416\n",
       "713  2166  201.071542\n",
       "714  2177  167.230200\n",
       "\n",
       "[715 rows x 2 columns]"
      ]
     },
     "execution_count": 17,
     "metadata": {},
     "output_type": "execute_result"
    }
   ],
   "source": [
    "# 출력\n",
    "submission = pd.read_csv('C:/submission.csv')\n",
    "submission['count'] = y_ngb_pred\n",
    "submission"
   ]
  },
  {
   "cell_type": "markdown",
   "id": "fb8c4ed0",
   "metadata": {},
   "source": [
    "#### 3) LGBMRegressor"
   ]
  },
  {
   "cell_type": "markdown",
   "id": "9023a0b1",
   "metadata": {},
   "source": [
    "#### 4) XGBRegressor"
   ]
  },
  {
   "cell_type": "code",
   "execution_count": null,
   "id": "53e926c3",
   "metadata": {},
   "outputs": [],
   "source": []
  },
  {
   "cell_type": "markdown",
   "id": "8583f3b6",
   "metadata": {},
   "source": [
    "#### 5) CatBoostRegressor"
   ]
  },
  {
   "cell_type": "code",
   "execution_count": null,
   "id": "0dc1f790",
   "metadata": {},
   "outputs": [],
   "source": []
  },
  {
   "cell_type": "markdown",
   "id": "781a0745",
   "metadata": {},
   "source": [
    "#### 6) RandomForestRegressor"
   ]
  },
  {
   "cell_type": "code",
   "execution_count": 17,
   "id": "f49f4d1a",
   "metadata": {},
   "outputs": [
    {
     "data": {
      "text/plain": [
       "RandomForestRegressor()"
      ]
     },
     "execution_count": 17,
     "metadata": {},
     "output_type": "execute_result"
    }
   ],
   "source": [
    "model=RandomForestRegressor(n_estimators=100)\n",
    "model.fit(train_x, train_y)"
   ]
  },
  {
   "cell_type": "code",
   "execution_count": 18,
   "id": "72fb8bf0",
   "metadata": {},
   "outputs": [],
   "source": [
    "pred = model.predict(test_x)"
   ]
  },
  {
   "cell_type": "code",
   "execution_count": 19,
   "id": "34ae1953",
   "metadata": {},
   "outputs": [
    {
     "data": {
      "text/html": [
       "<div>\n",
       "<style scoped>\n",
       "    .dataframe tbody tr th:only-of-type {\n",
       "        vertical-align: middle;\n",
       "    }\n",
       "\n",
       "    .dataframe tbody tr th {\n",
       "        vertical-align: top;\n",
       "    }\n",
       "\n",
       "    .dataframe thead th {\n",
       "        text-align: right;\n",
       "    }\n",
       "</style>\n",
       "<table border=\"1\" class=\"dataframe\">\n",
       "  <thead>\n",
       "    <tr style=\"text-align: right;\">\n",
       "      <th></th>\n",
       "      <th>id</th>\n",
       "      <th>count</th>\n",
       "    </tr>\n",
       "  </thead>\n",
       "  <tbody>\n",
       "    <tr>\n",
       "      <th>0</th>\n",
       "      <td>0</td>\n",
       "      <td>NaN</td>\n",
       "    </tr>\n",
       "    <tr>\n",
       "      <th>1</th>\n",
       "      <td>1</td>\n",
       "      <td>NaN</td>\n",
       "    </tr>\n",
       "    <tr>\n",
       "      <th>2</th>\n",
       "      <td>2</td>\n",
       "      <td>NaN</td>\n",
       "    </tr>\n",
       "    <tr>\n",
       "      <th>3</th>\n",
       "      <td>4</td>\n",
       "      <td>NaN</td>\n",
       "    </tr>\n",
       "    <tr>\n",
       "      <th>4</th>\n",
       "      <td>5</td>\n",
       "      <td>NaN</td>\n",
       "    </tr>\n",
       "    <tr>\n",
       "      <th>...</th>\n",
       "      <td>...</td>\n",
       "      <td>...</td>\n",
       "    </tr>\n",
       "    <tr>\n",
       "      <th>710</th>\n",
       "      <td>2148</td>\n",
       "      <td>NaN</td>\n",
       "    </tr>\n",
       "    <tr>\n",
       "      <th>711</th>\n",
       "      <td>2149</td>\n",
       "      <td>NaN</td>\n",
       "    </tr>\n",
       "    <tr>\n",
       "      <th>712</th>\n",
       "      <td>2165</td>\n",
       "      <td>NaN</td>\n",
       "    </tr>\n",
       "    <tr>\n",
       "      <th>713</th>\n",
       "      <td>2166</td>\n",
       "      <td>NaN</td>\n",
       "    </tr>\n",
       "    <tr>\n",
       "      <th>714</th>\n",
       "      <td>2177</td>\n",
       "      <td>NaN</td>\n",
       "    </tr>\n",
       "  </tbody>\n",
       "</table>\n",
       "<p>715 rows × 2 columns</p>\n",
       "</div>"
      ],
      "text/plain": [
       "       id  count\n",
       "0       0    NaN\n",
       "1       1    NaN\n",
       "2       2    NaN\n",
       "3       4    NaN\n",
       "4       5    NaN\n",
       "..    ...    ...\n",
       "710  2148    NaN\n",
       "711  2149    NaN\n",
       "712  2165    NaN\n",
       "713  2166    NaN\n",
       "714  2177    NaN\n",
       "\n",
       "[715 rows x 2 columns]"
      ]
     },
     "execution_count": 19,
     "metadata": {},
     "output_type": "execute_result"
    }
   ],
   "source": [
    "submission = pd.read_csv('C:/submission.csv')\n",
    "submission"
   ]
  },
  {
   "cell_type": "code",
   "execution_count": 20,
   "id": "b4066536",
   "metadata": {},
   "outputs": [],
   "source": [
    "submission['count'] = pred"
   ]
  },
  {
   "cell_type": "code",
   "execution_count": 21,
   "id": "20e210c4",
   "metadata": {},
   "outputs": [
    {
     "data": {
      "text/html": [
       "<div>\n",
       "<style scoped>\n",
       "    .dataframe tbody tr th:only-of-type {\n",
       "        vertical-align: middle;\n",
       "    }\n",
       "\n",
       "    .dataframe tbody tr th {\n",
       "        vertical-align: top;\n",
       "    }\n",
       "\n",
       "    .dataframe thead th {\n",
       "        text-align: right;\n",
       "    }\n",
       "</style>\n",
       "<table border=\"1\" class=\"dataframe\">\n",
       "  <thead>\n",
       "    <tr style=\"text-align: right;\">\n",
       "      <th></th>\n",
       "      <th>id</th>\n",
       "      <th>count</th>\n",
       "    </tr>\n",
       "  </thead>\n",
       "  <tbody>\n",
       "    <tr>\n",
       "      <th>0</th>\n",
       "      <td>0</td>\n",
       "      <td>165.168919</td>\n",
       "    </tr>\n",
       "    <tr>\n",
       "      <th>1</th>\n",
       "      <td>1</td>\n",
       "      <td>278.942500</td>\n",
       "    </tr>\n",
       "    <tr>\n",
       "      <th>2</th>\n",
       "      <td>2</td>\n",
       "      <td>52.480420</td>\n",
       "    </tr>\n",
       "    <tr>\n",
       "      <th>3</th>\n",
       "      <td>4</td>\n",
       "      <td>171.866284</td>\n",
       "    </tr>\n",
       "    <tr>\n",
       "      <th>4</th>\n",
       "      <td>5</td>\n",
       "      <td>66.340000</td>\n",
       "    </tr>\n",
       "    <tr>\n",
       "      <th>...</th>\n",
       "      <td>...</td>\n",
       "      <td>...</td>\n",
       "    </tr>\n",
       "    <tr>\n",
       "      <th>710</th>\n",
       "      <td>2148</td>\n",
       "      <td>196.889095</td>\n",
       "    </tr>\n",
       "    <tr>\n",
       "      <th>711</th>\n",
       "      <td>2149</td>\n",
       "      <td>118.437983</td>\n",
       "    </tr>\n",
       "    <tr>\n",
       "      <th>712</th>\n",
       "      <td>2165</td>\n",
       "      <td>148.052551</td>\n",
       "    </tr>\n",
       "    <tr>\n",
       "      <th>713</th>\n",
       "      <td>2166</td>\n",
       "      <td>206.969762</td>\n",
       "    </tr>\n",
       "    <tr>\n",
       "      <th>714</th>\n",
       "      <td>2177</td>\n",
       "      <td>155.930559</td>\n",
       "    </tr>\n",
       "  </tbody>\n",
       "</table>\n",
       "<p>715 rows × 2 columns</p>\n",
       "</div>"
      ],
      "text/plain": [
       "       id       count\n",
       "0       0  165.168919\n",
       "1       1  278.942500\n",
       "2       2   52.480420\n",
       "3       4  171.866284\n",
       "4       5   66.340000\n",
       "..    ...         ...\n",
       "710  2148  196.889095\n",
       "711  2149  118.437983\n",
       "712  2165  148.052551\n",
       "713  2166  206.969762\n",
       "714  2177  155.930559\n",
       "\n",
       "[715 rows x 2 columns]"
      ]
     },
     "execution_count": 21,
     "metadata": {},
     "output_type": "execute_result"
    }
   ],
   "source": [
    "submission"
   ]
  },
  {
   "cell_type": "markdown",
   "id": "92c5e62f",
   "metadata": {},
   "source": [
    "### 4. 평가"
   ]
  },
  {
   "cell_type": "code",
   "execution_count": null,
   "id": "e2183ede",
   "metadata": {},
   "outputs": [],
   "source": [
    "print('RandomForestRegressor MSE : {:.3f}'.format(mean_squared_error()))"
   ]
  },
  {
   "cell_type": "code",
   "execution_count": null,
   "id": "22c06a90",
   "metadata": {},
   "outputs": [],
   "source": []
  },
  {
   "cell_type": "code",
   "execution_count": null,
   "id": "107c12f1",
   "metadata": {},
   "outputs": [],
   "source": []
  },
  {
   "cell_type": "code",
   "execution_count": 21,
   "id": "69b83253",
   "metadata": {},
   "outputs": [],
   "source": [
    "submission.to_csv('결과.csv',index = False)"
   ]
  }
 ],
 "metadata": {
  "kernelspec": {
   "display_name": "Python 3 (ipykernel)",
   "language": "python",
   "name": "python3"
  },
  "language_info": {
   "codemirror_mode": {
    "name": "ipython",
    "version": 3
   },
   "file_extension": ".py",
   "mimetype": "text/x-python",
   "name": "python",
   "nbconvert_exporter": "python",
   "pygments_lexer": "ipython3",
   "version": "3.9.13"
  }
 },
 "nbformat": 4,
 "nbformat_minor": 5
}
