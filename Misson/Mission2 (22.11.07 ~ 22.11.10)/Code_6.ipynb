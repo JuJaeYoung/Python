{
 "cells": [
  {
   "cell_type": "markdown",
   "id": "34de37f5",
   "metadata": {},
   "source": [
    "# 서울시 따릉이 대여량 예측 경진대회\n",
    "#### < python을 이용하여 선택한 변수들로 대여량 예측하고 qt5로 구현해보기 >"
   ]
  },
  {
   "cell_type": "markdown",
   "id": "af45819c",
   "metadata": {},
   "source": [
    "### 1. 라이브러리 호출"
   ]
  },
  {
   "cell_type": "code",
   "execution_count": 27,
   "id": "ff720d1c",
   "metadata": {},
   "outputs": [],
   "source": [
    "import pandas as pd\n",
    "import numpy as np\n",
    "import matplotlib.pyplot as plt\n",
    "import seaborn as sns\n",
    "import warnings\n",
    "import tensorflow as tf\n",
    "from sklearn.linear_model import LinearRegression      # 선형회귀\n",
    "from sklearn.ensemble import RandomForestRegressor     # 랜덤포레스트\n",
    "%matplotlib inline\n",
    "warnings.simplefilter(\"ignore\")"
   ]
  },
  {
   "cell_type": "markdown",
   "id": "aab31fbe",
   "metadata": {},
   "source": [
    "### 2. 데이터 셋 구성하기"
   ]
  },
  {
   "cell_type": "markdown",
   "id": "3171462d",
   "metadata": {},
   "source": [
    "#### 1) 데이터 불러오기"
   ]
  },
  {
   "cell_type": "code",
   "execution_count": 28,
   "id": "778a5015",
   "metadata": {},
   "outputs": [],
   "source": [
    "train = pd.read_csv(\"C:/Users/user13/Documents/Study/따릉이/train.csv\")\n",
    "test = pd.read_csv(\"C:/Users/user13/Documents/Study/따릉이/test.csv\")\n",
    "submission = pd.read_csv(\"C:/Users/user13/Documents/Study/따릉이/submission.csv\")"
   ]
  },
  {
   "cell_type": "markdown",
   "id": "aa96206a",
   "metadata": {},
   "source": [
    "#### 2) 데이터 확인"
   ]
  },
  {
   "cell_type": "code",
   "execution_count": 29,
   "id": "4ce47efa",
   "metadata": {},
   "outputs": [
    {
     "data": {
      "text/html": [
       "<div>\n",
       "<style scoped>\n",
       "    .dataframe tbody tr th:only-of-type {\n",
       "        vertical-align: middle;\n",
       "    }\n",
       "\n",
       "    .dataframe tbody tr th {\n",
       "        vertical-align: top;\n",
       "    }\n",
       "\n",
       "    .dataframe thead th {\n",
       "        text-align: right;\n",
       "    }\n",
       "</style>\n",
       "<table border=\"1\" class=\"dataframe\">\n",
       "  <thead>\n",
       "    <tr style=\"text-align: right;\">\n",
       "      <th></th>\n",
       "      <th>id</th>\n",
       "      <th>hour</th>\n",
       "      <th>hour_bef_temperature</th>\n",
       "      <th>hour_bef_precipitation</th>\n",
       "      <th>hour_bef_windspeed</th>\n",
       "      <th>hour_bef_humidity</th>\n",
       "      <th>hour_bef_visibility</th>\n",
       "      <th>hour_bef_ozone</th>\n",
       "      <th>hour_bef_pm10</th>\n",
       "      <th>hour_bef_pm2.5</th>\n",
       "      <th>count</th>\n",
       "    </tr>\n",
       "  </thead>\n",
       "  <tbody>\n",
       "    <tr>\n",
       "      <th>0</th>\n",
       "      <td>3</td>\n",
       "      <td>20</td>\n",
       "      <td>16.3</td>\n",
       "      <td>1.0</td>\n",
       "      <td>1.5</td>\n",
       "      <td>89.0</td>\n",
       "      <td>576.0</td>\n",
       "      <td>0.027</td>\n",
       "      <td>76.0</td>\n",
       "      <td>33.0</td>\n",
       "      <td>49.0</td>\n",
       "    </tr>\n",
       "    <tr>\n",
       "      <th>1</th>\n",
       "      <td>6</td>\n",
       "      <td>13</td>\n",
       "      <td>20.1</td>\n",
       "      <td>0.0</td>\n",
       "      <td>1.4</td>\n",
       "      <td>48.0</td>\n",
       "      <td>916.0</td>\n",
       "      <td>0.042</td>\n",
       "      <td>73.0</td>\n",
       "      <td>40.0</td>\n",
       "      <td>159.0</td>\n",
       "    </tr>\n",
       "    <tr>\n",
       "      <th>2</th>\n",
       "      <td>7</td>\n",
       "      <td>6</td>\n",
       "      <td>13.9</td>\n",
       "      <td>0.0</td>\n",
       "      <td>0.7</td>\n",
       "      <td>79.0</td>\n",
       "      <td>1382.0</td>\n",
       "      <td>0.033</td>\n",
       "      <td>32.0</td>\n",
       "      <td>19.0</td>\n",
       "      <td>26.0</td>\n",
       "    </tr>\n",
       "    <tr>\n",
       "      <th>3</th>\n",
       "      <td>8</td>\n",
       "      <td>23</td>\n",
       "      <td>8.1</td>\n",
       "      <td>0.0</td>\n",
       "      <td>2.7</td>\n",
       "      <td>54.0</td>\n",
       "      <td>946.0</td>\n",
       "      <td>0.040</td>\n",
       "      <td>75.0</td>\n",
       "      <td>64.0</td>\n",
       "      <td>57.0</td>\n",
       "    </tr>\n",
       "    <tr>\n",
       "      <th>4</th>\n",
       "      <td>9</td>\n",
       "      <td>18</td>\n",
       "      <td>29.5</td>\n",
       "      <td>0.0</td>\n",
       "      <td>4.8</td>\n",
       "      <td>7.0</td>\n",
       "      <td>2000.0</td>\n",
       "      <td>0.057</td>\n",
       "      <td>27.0</td>\n",
       "      <td>11.0</td>\n",
       "      <td>431.0</td>\n",
       "    </tr>\n",
       "  </tbody>\n",
       "</table>\n",
       "</div>"
      ],
      "text/plain": [
       "   id  hour  hour_bef_temperature  hour_bef_precipitation  hour_bef_windspeed  \\\n",
       "0   3    20                  16.3                     1.0                 1.5   \n",
       "1   6    13                  20.1                     0.0                 1.4   \n",
       "2   7     6                  13.9                     0.0                 0.7   \n",
       "3   8    23                   8.1                     0.0                 2.7   \n",
       "4   9    18                  29.5                     0.0                 4.8   \n",
       "\n",
       "   hour_bef_humidity  hour_bef_visibility  hour_bef_ozone  hour_bef_pm10  \\\n",
       "0               89.0                576.0           0.027           76.0   \n",
       "1               48.0                916.0           0.042           73.0   \n",
       "2               79.0               1382.0           0.033           32.0   \n",
       "3               54.0                946.0           0.040           75.0   \n",
       "4                7.0               2000.0           0.057           27.0   \n",
       "\n",
       "   hour_bef_pm2.5  count  \n",
       "0            33.0   49.0  \n",
       "1            40.0  159.0  \n",
       "2            19.0   26.0  \n",
       "3            64.0   57.0  \n",
       "4            11.0  431.0  "
      ]
     },
     "execution_count": 29,
     "metadata": {},
     "output_type": "execute_result"
    }
   ],
   "source": [
    "train.head()"
   ]
  },
  {
   "cell_type": "code",
   "execution_count": 30,
   "id": "591418e7",
   "metadata": {},
   "outputs": [
    {
     "data": {
      "text/plain": [
       "((1459, 11), (715, 10), (715, 2))"
      ]
     },
     "execution_count": 30,
     "metadata": {},
     "output_type": "execute_result"
    }
   ],
   "source": [
    "train.shape, test.shape, submission.shape"
   ]
  },
  {
   "cell_type": "markdown",
   "id": "095dce4e",
   "metadata": {},
   "source": [
    "### 3. 전처리"
   ]
  },
  {
   "cell_type": "markdown",
   "id": "b7186e8d",
   "metadata": {},
   "source": [
    "#### 1) 결측치 처리\n",
    "* hour_bef_precipitation : 최빈값(0)으로 처리\n",
    "* 나머지 열 : 평균값으로 처리"
   ]
  },
  {
   "cell_type": "code",
   "execution_count": 31,
   "id": "57028108",
   "metadata": {},
   "outputs": [
    {
     "name": "stdout",
     "output_type": "stream",
     "text": [
      "<class 'pandas.core.frame.DataFrame'>\n",
      "RangeIndex: 1459 entries, 0 to 1458\n",
      "Data columns (total 11 columns):\n",
      " #   Column                  Non-Null Count  Dtype  \n",
      "---  ------                  --------------  -----  \n",
      " 0   id                      1459 non-null   int64  \n",
      " 1   hour                    1459 non-null   int64  \n",
      " 2   hour_bef_temperature    1459 non-null   float64\n",
      " 3   hour_bef_precipitation  1459 non-null   object \n",
      " 4   hour_bef_windspeed      1459 non-null   float64\n",
      " 5   hour_bef_humidity       1459 non-null   float64\n",
      " 6   hour_bef_visibility     1459 non-null   float64\n",
      " 7   hour_bef_ozone          1459 non-null   float64\n",
      " 8   hour_bef_pm10           1459 non-null   float64\n",
      " 9   hour_bef_pm2.5          1459 non-null   float64\n",
      " 10  count                   1459 non-null   float64\n",
      "dtypes: float64(8), int64(2), object(1)\n",
      "memory usage: 125.5+ KB\n"
     ]
    }
   ],
   "source": [
    "# train 데이터셋 결측치 처리\n",
    "train['hour_bef_precipitation'].fillna('0', inplace=True)\n",
    "train.fillna(train.mean(), inplace=True)\n",
    "train.info()"
   ]
  },
  {
   "cell_type": "code",
   "execution_count": 32,
   "id": "45009942",
   "metadata": {},
   "outputs": [
    {
     "name": "stdout",
     "output_type": "stream",
     "text": [
      "<class 'pandas.core.frame.DataFrame'>\n",
      "RangeIndex: 715 entries, 0 to 714\n",
      "Data columns (total 10 columns):\n",
      " #   Column                  Non-Null Count  Dtype  \n",
      "---  ------                  --------------  -----  \n",
      " 0   id                      715 non-null    int64  \n",
      " 1   hour                    715 non-null    int64  \n",
      " 2   hour_bef_temperature    715 non-null    float64\n",
      " 3   hour_bef_precipitation  715 non-null    object \n",
      " 4   hour_bef_windspeed      715 non-null    float64\n",
      " 5   hour_bef_humidity       715 non-null    float64\n",
      " 6   hour_bef_visibility     715 non-null    float64\n",
      " 7   hour_bef_ozone          715 non-null    float64\n",
      " 8   hour_bef_pm10           715 non-null    float64\n",
      " 9   hour_bef_pm2.5          715 non-null    float64\n",
      "dtypes: float64(7), int64(2), object(1)\n",
      "memory usage: 56.0+ KB\n"
     ]
    }
   ],
   "source": [
    "# test 데이터셋 결측치 처리\n",
    "test['hour_bef_precipitation'].fillna('0', inplace=True)\n",
    "test.fillna(test.mean(), inplace=True)\n",
    "test.info()"
   ]
  },
  {
   "cell_type": "markdown",
   "id": "b902f4fb",
   "metadata": {},
   "source": [
    "#### 3) 변수 정의"
   ]
  },
  {
   "cell_type": "code",
   "execution_count": 33,
   "id": "64a71661",
   "metadata": {},
   "outputs": [],
   "source": [
    "x_train = train.drop(['id','count'], axis=1)\n",
    "y_train = train['count']\n",
    "x_test = test.drop(['id'], axis=1)"
   ]
  },
  {
   "cell_type": "code",
   "execution_count": 34,
   "id": "c4779acb",
   "metadata": {},
   "outputs": [
    {
     "data": {
      "text/plain": [
       "((1459, 9), (1459,), (715, 9))"
      ]
     },
     "execution_count": 34,
     "metadata": {},
     "output_type": "execute_result"
    }
   ],
   "source": [
    "x_train.shape, y_train.shape, x_test.shape"
   ]
  },
  {
   "cell_type": "markdown",
   "id": "eaf35e25",
   "metadata": {},
   "source": [
    "### 3. 학습"
   ]
  },
  {
   "cell_type": "markdown",
   "id": "366a0bab",
   "metadata": {},
   "source": [
    "#### 1) LinearRegression"
   ]
  },
  {
   "cell_type": "code",
   "execution_count": 35,
   "id": "1739484d",
   "metadata": {},
   "outputs": [],
   "source": [
    "# 모델 생성\n",
    "model_LR = LinearRegression()\n",
    "\n",
    "# 학습\n",
    "model_LR.fit(x_train, y_train)\n",
    "\n",
    "# 예측값\n",
    "y_pred_LR = model_LR.predict(x_test)"
   ]
  },
  {
   "cell_type": "markdown",
   "id": "1daf7b3e",
   "metadata": {},
   "source": [
    "#### 2) RandomForestRegressor"
   ]
  },
  {
   "cell_type": "code",
   "execution_count": 36,
   "id": "f381fa71",
   "metadata": {},
   "outputs": [],
   "source": [
    "# 모델 생성\n",
    "model_RF100 = RandomForestRegressor(n_estimators=100, random_state=0)\n",
    "model_RF150 = RandomForestRegressor(n_estimators=150, random_state=0)\n",
    "\n",
    "# 모델 학습\n",
    "model_RF100.fit(x_train, y_train)\n",
    "model_RF150.fit(x_train, y_train)\n",
    "\n",
    "# 예측값\n",
    "y_pred_RF100 = model_RF100.predict(x_test)\n",
    "y_pred_RF150 = model_RF150.predict(x_test)"
   ]
  },
  {
   "cell_type": "markdown",
   "id": "027a5e72",
   "metadata": {},
   "source": [
    "### 4. 결과"
   ]
  },
  {
   "cell_type": "code",
   "execution_count": 37,
   "id": "f29a6dc0",
   "metadata": {
    "scrolled": true
   },
   "outputs": [
    {
     "data": {
      "text/html": [
       "<div>\n",
       "<style scoped>\n",
       "    .dataframe tbody tr th:only-of-type {\n",
       "        vertical-align: middle;\n",
       "    }\n",
       "\n",
       "    .dataframe tbody tr th {\n",
       "        vertical-align: top;\n",
       "    }\n",
       "\n",
       "    .dataframe thead th {\n",
       "        text-align: right;\n",
       "    }\n",
       "</style>\n",
       "<table border=\"1\" class=\"dataframe\">\n",
       "  <thead>\n",
       "    <tr style=\"text-align: right;\">\n",
       "      <th></th>\n",
       "      <th>id</th>\n",
       "      <th>count</th>\n",
       "      <th>count_LR</th>\n",
       "      <th>count_RF100</th>\n",
       "      <th>count_RF150</th>\n",
       "    </tr>\n",
       "  </thead>\n",
       "  <tbody>\n",
       "    <tr>\n",
       "      <th>0</th>\n",
       "      <td>0</td>\n",
       "      <td>94.514424</td>\n",
       "      <td>103.623271</td>\n",
       "      <td>89.68</td>\n",
       "      <td>90.240000</td>\n",
       "    </tr>\n",
       "    <tr>\n",
       "      <th>1</th>\n",
       "      <td>1</td>\n",
       "      <td>224.535381</td>\n",
       "      <td>237.486142</td>\n",
       "      <td>216.82</td>\n",
       "      <td>219.300000</td>\n",
       "    </tr>\n",
       "    <tr>\n",
       "      <th>2</th>\n",
       "      <td>2</td>\n",
       "      <td>69.472937</td>\n",
       "      <td>54.478812</td>\n",
       "      <td>77.50</td>\n",
       "      <td>76.440000</td>\n",
       "    </tr>\n",
       "    <tr>\n",
       "      <th>3</th>\n",
       "      <td>4</td>\n",
       "      <td>56.349883</td>\n",
       "      <td>110.166314</td>\n",
       "      <td>28.87</td>\n",
       "      <td>30.013333</td>\n",
       "    </tr>\n",
       "    <tr>\n",
       "      <th>4</th>\n",
       "      <td>5</td>\n",
       "      <td>82.192091</td>\n",
       "      <td>91.486274</td>\n",
       "      <td>78.03</td>\n",
       "      <td>77.060000</td>\n",
       "    </tr>\n",
       "    <tr>\n",
       "      <th>...</th>\n",
       "      <td>...</td>\n",
       "      <td>...</td>\n",
       "      <td>...</td>\n",
       "      <td>...</td>\n",
       "      <td>...</td>\n",
       "    </tr>\n",
       "    <tr>\n",
       "      <th>710</th>\n",
       "      <td>2148</td>\n",
       "      <td>77.729017</td>\n",
       "      <td>108.097052</td>\n",
       "      <td>62.65</td>\n",
       "      <td>62.440000</td>\n",
       "    </tr>\n",
       "    <tr>\n",
       "      <th>711</th>\n",
       "      <td>2149</td>\n",
       "      <td>71.057570</td>\n",
       "      <td>69.752711</td>\n",
       "      <td>71.98</td>\n",
       "      <td>71.440000</td>\n",
       "    </tr>\n",
       "    <tr>\n",
       "      <th>712</th>\n",
       "      <td>2165</td>\n",
       "      <td>128.648869</td>\n",
       "      <td>134.666608</td>\n",
       "      <td>125.94</td>\n",
       "      <td>125.340000</td>\n",
       "    </tr>\n",
       "    <tr>\n",
       "      <th>713</th>\n",
       "      <td>2166</td>\n",
       "      <td>168.180846</td>\n",
       "      <td>188.775872</td>\n",
       "      <td>156.70</td>\n",
       "      <td>159.066667</td>\n",
       "    </tr>\n",
       "    <tr>\n",
       "      <th>714</th>\n",
       "      <td>2177</td>\n",
       "      <td>173.344073</td>\n",
       "      <td>109.235551</td>\n",
       "      <td>207.19</td>\n",
       "      <td>203.606667</td>\n",
       "    </tr>\n",
       "  </tbody>\n",
       "</table>\n",
       "<p>715 rows × 5 columns</p>\n",
       "</div>"
      ],
      "text/plain": [
       "       id       count    count_LR  count_RF100  count_RF150\n",
       "0       0   94.514424  103.623271        89.68    90.240000\n",
       "1       1  224.535381  237.486142       216.82   219.300000\n",
       "2       2   69.472937   54.478812        77.50    76.440000\n",
       "3       4   56.349883  110.166314        28.87    30.013333\n",
       "4       5   82.192091   91.486274        78.03    77.060000\n",
       "..    ...         ...         ...          ...          ...\n",
       "710  2148   77.729017  108.097052        62.65    62.440000\n",
       "711  2149   71.057570   69.752711        71.98    71.440000\n",
       "712  2165  128.648869  134.666608       125.94   125.340000\n",
       "713  2166  168.180846  188.775872       156.70   159.066667\n",
       "714  2177  173.344073  109.235551       207.19   203.606667\n",
       "\n",
       "[715 rows x 5 columns]"
      ]
     },
     "execution_count": 37,
     "metadata": {},
     "output_type": "execute_result"
    }
   ],
   "source": [
    "submission['count'] = (y_pred_LR + y_pred_RF100 + y_pred_RF150) / 3\n",
    "submission['count_LR'] = y_pred_LR\n",
    "submission['count_RF100'] = y_pred_RF100\n",
    "submission['count_RF150'] = y_pred_RF150\n",
    "submission"
   ]
  },
  {
   "cell_type": "code",
   "execution_count": 38,
   "id": "fba56c71",
   "metadata": {},
   "outputs": [
    {
     "data": {
      "text/html": [
       "<div>\n",
       "<style scoped>\n",
       "    .dataframe tbody tr th:only-of-type {\n",
       "        vertical-align: middle;\n",
       "    }\n",
       "\n",
       "    .dataframe tbody tr th {\n",
       "        vertical-align: top;\n",
       "    }\n",
       "\n",
       "    .dataframe thead th {\n",
       "        text-align: right;\n",
       "    }\n",
       "</style>\n",
       "<table border=\"1\" class=\"dataframe\">\n",
       "  <thead>\n",
       "    <tr style=\"text-align: right;\">\n",
       "      <th></th>\n",
       "      <th>count</th>\n",
       "      <th>count_LR</th>\n",
       "      <th>count_RF100</th>\n",
       "      <th>count_RF150</th>\n",
       "    </tr>\n",
       "  </thead>\n",
       "  <tbody>\n",
       "    <tr>\n",
       "      <th>0</th>\n",
       "      <td>94.514424</td>\n",
       "      <td>103.623271</td>\n",
       "      <td>89.68</td>\n",
       "      <td>90.240000</td>\n",
       "    </tr>\n",
       "    <tr>\n",
       "      <th>1</th>\n",
       "      <td>224.535381</td>\n",
       "      <td>237.486142</td>\n",
       "      <td>216.82</td>\n",
       "      <td>219.300000</td>\n",
       "    </tr>\n",
       "    <tr>\n",
       "      <th>2</th>\n",
       "      <td>69.472937</td>\n",
       "      <td>54.478812</td>\n",
       "      <td>77.50</td>\n",
       "      <td>76.440000</td>\n",
       "    </tr>\n",
       "    <tr>\n",
       "      <th>3</th>\n",
       "      <td>56.349883</td>\n",
       "      <td>110.166314</td>\n",
       "      <td>28.87</td>\n",
       "      <td>30.013333</td>\n",
       "    </tr>\n",
       "    <tr>\n",
       "      <th>4</th>\n",
       "      <td>82.192091</td>\n",
       "      <td>91.486274</td>\n",
       "      <td>78.03</td>\n",
       "      <td>77.060000</td>\n",
       "    </tr>\n",
       "    <tr>\n",
       "      <th>...</th>\n",
       "      <td>...</td>\n",
       "      <td>...</td>\n",
       "      <td>...</td>\n",
       "      <td>...</td>\n",
       "    </tr>\n",
       "    <tr>\n",
       "      <th>710</th>\n",
       "      <td>77.729017</td>\n",
       "      <td>108.097052</td>\n",
       "      <td>62.65</td>\n",
       "      <td>62.440000</td>\n",
       "    </tr>\n",
       "    <tr>\n",
       "      <th>711</th>\n",
       "      <td>71.057570</td>\n",
       "      <td>69.752711</td>\n",
       "      <td>71.98</td>\n",
       "      <td>71.440000</td>\n",
       "    </tr>\n",
       "    <tr>\n",
       "      <th>712</th>\n",
       "      <td>128.648869</td>\n",
       "      <td>134.666608</td>\n",
       "      <td>125.94</td>\n",
       "      <td>125.340000</td>\n",
       "    </tr>\n",
       "    <tr>\n",
       "      <th>713</th>\n",
       "      <td>168.180846</td>\n",
       "      <td>188.775872</td>\n",
       "      <td>156.70</td>\n",
       "      <td>159.066667</td>\n",
       "    </tr>\n",
       "    <tr>\n",
       "      <th>714</th>\n",
       "      <td>173.344073</td>\n",
       "      <td>109.235551</td>\n",
       "      <td>207.19</td>\n",
       "      <td>203.606667</td>\n",
       "    </tr>\n",
       "  </tbody>\n",
       "</table>\n",
       "<p>715 rows × 4 columns</p>\n",
       "</div>"
      ],
      "text/plain": [
       "          count    count_LR  count_RF100  count_RF150\n",
       "0     94.514424  103.623271        89.68    90.240000\n",
       "1    224.535381  237.486142       216.82   219.300000\n",
       "2     69.472937   54.478812        77.50    76.440000\n",
       "3     56.349883  110.166314        28.87    30.013333\n",
       "4     82.192091   91.486274        78.03    77.060000\n",
       "..          ...         ...          ...          ...\n",
       "710   77.729017  108.097052        62.65    62.440000\n",
       "711   71.057570   69.752711        71.98    71.440000\n",
       "712  128.648869  134.666608       125.94   125.340000\n",
       "713  168.180846  188.775872       156.70   159.066667\n",
       "714  173.344073  109.235551       207.19   203.606667\n",
       "\n",
       "[715 rows x 4 columns]"
      ]
     },
     "execution_count": 38,
     "metadata": {},
     "output_type": "execute_result"
    }
   ],
   "source": [
    "result = submission.drop(['id'], axis=1)\n",
    "result"
   ]
  },
  {
   "cell_type": "code",
   "execution_count": 39,
   "id": "2305539c",
   "metadata": {},
   "outputs": [
    {
     "data": {
      "text/plain": [
       "<AxesSubplot: >"
      ]
     },
     "execution_count": 39,
     "metadata": {},
     "output_type": "execute_result"
    },
    {
     "data": {
      "image/png": "[encoded data removed]",
      "text/plain": [
       "<Figure size 1000x1000 with 2 Axes>"
      ]
     },
     "metadata": {},
     "output_type": "display_data"
    }
   ],
   "source": [
    "plt.figure(figsize=(10,10))\n",
    "sns.heatmap(result.corr(), annot=True, fmt=\".3f\", linewidths=.5, square=True, cmap='Blues_r')"
   ]
  },
  {
   "cell_type": "code",
   "execution_count": null,
   "id": "92268196",
   "metadata": {},
   "outputs": [],
   "source": []
  }
 ],
 "metadata": {
  "kernelspec": {
   "display_name": "Python 3 (ipykernel)",
   "language": "python",
   "name": "python3"
  },
  "language_info": {
   "codemirror_mode": {
    "name": "ipython",
    "version": 3
   },
   "file_extension": ".py",
   "mimetype": "text/x-python",
   "name": "python",
   "nbconvert_exporter": "python",
   "pygments_lexer": "ipython3",
   "version": "3.8.13"
  }
 },
 "nbformat": 4,
 "nbformat_minor": 5
}
